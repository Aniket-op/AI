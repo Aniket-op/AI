{
 "cells": [
  {
   "cell_type": "markdown",
   "id": "8e1fbd3f",
   "metadata": {},
   "source": [
    "            BEST FIRST SEARCH"
   ]
  },
  {
   "cell_type": "code",
   "execution_count": 11,
   "id": "f80ed79d",
   "metadata": {},
   "outputs": [
    {
     "name": "stdout",
     "output_type": "stream",
     "text": [
      "Solution found: [1, 2, 3, 8, -1, 4, 7, 6, 5]\n"
     ]
    }
   ],
   "source": [
    "from queue import PriorityQueue\n",
    "\n",
    "\n",
    "# Calculate the number of misplaced tiles heuristic function\n",
    "def h(state, goal):\n",
    "    cnt =0;\n",
    "    for i in range(1,8):\n",
    "            if (state[i] == goal[i]):\n",
    "                cnt = cnt + 1;\n",
    "    return cnt\n",
    "\n",
    "# Best First Search algorithm\n",
    "def best_first_search(initial, goal):\n",
    "    visited = set()\n",
    "    pq = PriorityQueue()\n",
    "    pq.put((h(initial, goal), initial))\n",
    "\n",
    "    while not pq.empty():\n",
    "        _, current_state = pq.get()\n",
    "        visited.add(tuple(current_state))\n",
    "\n",
    "        if current_state == goal:\n",
    "            return current_state\n",
    "\n",
    "        zero_index = current_state.index(-1)\n",
    "        print(zero_index)\n",
    "        moves = [(1, 0), (-1, 0), (0, 1), (0, -1)]\n",
    "\n",
    "        for dx, dy in moves:\n",
    "            new_index = zero_index + dx + 3 * dy\n",
    "            if 0 <= new_index < 9:\n",
    "                new_state = list(current_state)\n",
    "                new_state[zero_index], new_state[new_index] = new_state[new_index], new_state[zero_index]\n",
    "                if tuple(new_state) not in visited:\n",
    "                    pq.put((h(new_state, goal), new_state))\n",
    "\n",
    "    return None\n",
    "\n",
    "# Initial and goal states\n",
    "initial = [2, -1, 3, 1, 8, 4, 7, 6, 5]\n",
    "goal = [1, 2, 3, 8, -1, 4, 7, 6, 5]\n",
    "\n",
    "# Run the algorithm\n",
    "result = best_first_search(initial, goal)\n",
    "if result:\n",
    "    print(\"Solution found:\", result)\n",
    "else:\n",
    "    print(\"No solution found.\")\n"
   ]
  },
  {
   "cell_type": "code",
   "execution_count": null,
   "id": "7ea90a65",
   "metadata": {},
   "outputs": [],
   "source": []
  }
 ],
 "metadata": {
  "kernelspec": {
   "display_name": "Python 3 (ipykernel)",
   "language": "python",
   "name": "python3"
  },
  "language_info": {
   "codemirror_mode": {
    "name": "ipython",
    "version": 3
   },
   "file_extension": ".py",
   "mimetype": "text/x-python",
   "name": "python",
   "nbconvert_exporter": "python",
   "pygments_lexer": "ipython3",
   "version": "3.10.9"
  }
 },
 "nbformat": 4,
 "nbformat_minor": 5
}
