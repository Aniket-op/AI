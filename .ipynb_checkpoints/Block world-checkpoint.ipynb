{
 "cells": [
  {
   "cell_type": "markdown",
   "id": "a51e329f",
   "metadata": {},
   "source": [
    "    DFS(Depth First Search) -block world"
   ]
  },
  {
   "cell_type": "code",
   "execution_count": 11,
   "id": "66455df7",
   "metadata": {
    "scrolled": true
   },
   "outputs": [
    {
     "name": "stdout",
     "output_type": "stream",
     "text": [
      "Solution found:\n",
      "Step 1: [['A'], ['B', 'C'], []]\n",
      "Step 2: [['A'], ['B'], ['C']]\n",
      "Step 3: [['A', 'C'], ['B'], []]\n",
      "Step 4: [['A', 'C'], [], ['B']]\n",
      "Step 5: [['A'], [], ['B', 'C']]\n",
      "Step 6: [['A'], ['C'], ['B']]\n",
      "Step 7: [['A'], ['C', 'B'], []]\n",
      "Step 8: [['A', 'B'], ['C'], []]\n",
      "Step 9: [['A', 'B'], [], ['C']]\n",
      "Step 10: [['A', 'B', 'C'], [], []]\n"
     ]
    }
   ],
   "source": [
    "class BlockWorld:\n",
    "    def __init__(self, initial_state, goal_state):\n",
    "        self.initial_state = initial_state\n",
    "        self.goal_state = goal_state\n",
    "        self.visited_states = set()\n",
    "\n",
    "    def is_goal_state(self, state):\n",
    "        return state == self.goal_state\n",
    "\n",
    "    def generate_possible_moves(self, state):\n",
    "        possible_moves = []\n",
    "        for i in range(len(state)):\n",
    "            if state[i]: # Check if stack is not empty\n",
    "                for j in range(len(state)):\n",
    "                    if i != j:  # Don't move to the same stack\n",
    "                        new_state = [list(stack) for stack in state]\n",
    "                        block = new_state[i].pop()\n",
    "                        new_state[j].append(block)\n",
    "                        possible_moves.append(new_state)\n",
    "        return possible_moves\n",
    "\n",
    "    def dfs(self):\n",
    "        stack = [(self.initial_state, [self.initial_state])]\n",
    "\n",
    "        while stack:\n",
    "            current_state, path = stack.pop()\n",
    "\n",
    "            if self.is_goal_state(current_state):\n",
    "                return path\n",
    "\n",
    "            self.visited_states.add(tuple(map(tuple, current_state)))\n",
    "\n",
    "            for next_state in self.generate_possible_moves(current_state):\n",
    "                if tuple(map(tuple, next_state)) not in self.visited_states:\n",
    "                    new_path = path + [next_state]\n",
    "                    stack.append((next_state, new_path))\n",
    "\n",
    "        return None\n",
    "\n",
    "    def solve(self):\n",
    "        result = self.dfs()\n",
    "        if result:\n",
    "            print(\"Solution found:\")\n",
    "            for i, state in enumerate(result):\n",
    "                print(f\"Step {i+1}: {state}\")\n",
    "        else:\n",
    "            print(\"No solution found.\")\n",
    "\n",
    "\n",
    "# Example usage:\n",
    "initial_state = [['A'], ['B', 'C'], []]  # Additional empty stack\n",
    "goal_state = [['A', 'B', 'C'], [], []]   # Additional empty stack\n",
    "block_world = BlockWorld(initial_state, goal_state)\n",
    "block_world.solve()\n"
   ]
  },
  {
   "cell_type": "markdown",
   "id": "a7bc3c0f",
   "metadata": {},
   "source": [
    "       BFS(Breadth First Search.) -block world"
   ]
  },
  {
   "cell_type": "code",
   "execution_count": 13,
   "id": "ef8e2c4b",
   "metadata": {},
   "outputs": [
    {
     "name": "stdout",
     "output_type": "stream",
     "text": [
      "Solution found:\n",
      "Step 1: [['A'], ['B', 'C'], []]\n",
      "Step 2: [['A'], ['B'], ['C']]\n",
      "Step 3: [['A', 'B'], [], ['C']]\n",
      "Step 4: [['A', 'B', 'C'], [], []]\n"
     ]
    }
   ],
   "source": [
    "from collections import deque\n",
    "\n",
    "class BlockWorld:\n",
    "    def __init__(self, initial_state, goal_state):\n",
    "        self.initial_state = initial_state\n",
    "        self.goal_state = goal_state\n",
    "        self.visited_states = set()\n",
    "\n",
    "    def is_goal_state(self, state):\n",
    "        return state == self.goal_state\n",
    "\n",
    "    def generate_possible_moves(self, state):\n",
    "        possible_moves = []\n",
    "        for i in range(len(state)):\n",
    "            if state[i]:  # Check if stack is not empty\n",
    "                for j in range(len(state)):\n",
    "                    if i != j:  # Don't move to the same stack\n",
    "                        new_state = [list(stack) for stack in state]\n",
    "                        block = new_state[i].pop()\n",
    "                        new_state[j].append(block)\n",
    "                        possible_moves.append(new_state)\n",
    "        return possible_moves\n",
    "\n",
    "    def bfs(self):\n",
    "        queue = deque([(self.initial_state, [self.initial_state])])\n",
    "\n",
    "        while queue:\n",
    "            current_state, path = queue.popleft()\n",
    "\n",
    "            if self.is_goal_state(current_state):\n",
    "                return path\n",
    "\n",
    "            self.visited_states.add(tuple(map(tuple, current_state)))\n",
    "\n",
    "            for next_state in self.generate_possible_moves(current_state):\n",
    "                if tuple(map(tuple, next_state)) not in self.visited_states:\n",
    "                    new_path = path + [next_state]\n",
    "                    queue.append((next_state, new_path))\n",
    "\n",
    "        return None\n",
    "\n",
    "    def solve(self):\n",
    "        result = self.bfs()\n",
    "        if result:\n",
    "            print(\"Solution found:\")\n",
    "            for i, state in enumerate(result):\n",
    "                print(f\"Step {i+1}: {state}\")\n",
    "        else:\n",
    "            print(\"No solution found.\")\n",
    "\n",
    "\n",
    "# Example usage:\n",
    "initial_state = [['A'], ['B', 'C'], []]  # Additional empty stack\n",
    "goal_state = [['A', 'B', 'C'], [], []]   # Additional empty stack\n",
    "block_world = BlockWorld(initial_state, goal_state)\n",
    "block_world.solve()\n"
   ]
  },
  {
   "cell_type": "markdown",
   "id": "0e1751db",
   "metadata": {},
   "source": [
    "    UCS (Uniform Cost search )"
   ]
  },
  {
   "cell_type": "code",
   "execution_count": 14,
   "id": "0c2d712c",
   "metadata": {},
   "outputs": [
    {
     "name": "stdout",
     "output_type": "stream",
     "text": [
      "Path found: ['S', 'B', 'G']\n"
     ]
    }
   ],
   "source": [
    "import heapq\n",
    "\n",
    "class Node:\n",
    "    def __init__(self, state, cost, parent=None):\n",
    "        self.state = state\n",
    "        self.cost = cost\n",
    "        self.parent = parent\n",
    "\n",
    "    def __lt__(self, other):\n",
    "        return self.cost < other.cost\n",
    "\n",
    "def uniform_cost_search(initial_state, goal_state, successors, heuristic=None):\n",
    "    visited = set()\n",
    "    priority_queue = []\n",
    "    heapq.heappush(priority_queue, Node(initial_state, 0))\n",
    "\n",
    "    while priority_queue:\n",
    "        current_node = heapq.heappop(priority_queue)\n",
    "\n",
    "        if current_node.state == goal_state:\n",
    "            return current_node\n",
    "\n",
    "        visited.add(current_node.state)\n",
    "\n",
    "        for successor, cost in successors(current_node.state):\n",
    "            if successor not in visited:\n",
    "                total_cost = current_node.cost + cost\n",
    "                heapq.heappush(priority_queue, Node(successor, total_cost, current_node))\n",
    "\n",
    "    return None\n",
    "\n",
    "# Example usage\n",
    "def successors(state):\n",
    "    # Define the successors for each state along with their costs\n",
    "    # This is just a simple example, adjust according to your problem\n",
    "    successors_dict = {\n",
    "        'S': [('A', 1), ('B', 5), ('C', 15)],\n",
    "        'A': [('S', 1), ('G', 10)],\n",
    "        'B': [('S', 5), ('G', 5)],\n",
    "        'C': [('S', 15), ('G', 5)],\n",
    "        'G': [('A', 10), ('B', 5), ('C', 5)]\n",
    "    }\n",
    "    return successors_dict.get(state, [])\n",
    "\n",
    "initial_state = 'S'\n",
    "goal_state = 'G'\n",
    "\n",
    "result_node = uniform_cost_search(initial_state, goal_state, successors)\n",
    "if result_node:\n",
    "    # Trace back to get the path\n",
    "    path = []\n",
    "    while result_node:\n",
    "        path.append(result_node.state)\n",
    "        result_node = result_node.parent\n",
    "    path.reverse()\n",
    "    print(\"Path found:\", path)\n",
    "else:\n",
    "    print(\"No path found\")\n"
   ]
  }
 ],
 "metadata": {
  "kernelspec": {
   "display_name": "Python 3 (ipykernel)",
   "language": "python",
   "name": "python3"
  },
  "language_info": {
   "codemirror_mode": {
    "name": "ipython",
    "version": 3
   },
   "file_extension": ".py",
   "mimetype": "text/x-python",
   "name": "python",
   "nbconvert_exporter": "python",
   "pygments_lexer": "ipython3",
   "version": "3.10.9"
  }
 },
 "nbformat": 4,
 "nbformat_minor": 5
}
