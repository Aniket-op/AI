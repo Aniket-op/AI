{
 "cells": [
  {
   "cell_type": "code",
   "execution_count": 3,
   "id": "52e49f40",
   "metadata": {},
   "outputs": [
    {
     "name": "stdout",
     "output_type": "stream",
     "text": [
      "Requirement already satisfied: panda in c:\\users\\akani\\anaconda3\\lib\\site-packages (0.3.1)\n",
      "Requirement already satisfied: requests in c:\\users\\akani\\anaconda3\\lib\\site-packages (from panda) (2.28.1)\n",
      "Requirement already satisfied: setuptools in c:\\users\\akani\\anaconda3\\lib\\site-packages (from panda) (69.0.3)\n",
      "Requirement already satisfied: certifi>=2017.4.17 in c:\\users\\akani\\anaconda3\\lib\\site-packages (from requests->panda) (2022.12.7)\n",
      "Requirement already satisfied: urllib3<1.27,>=1.21.1 in c:\\users\\akani\\anaconda3\\lib\\site-packages (from requests->panda) (1.26.14)\n",
      "Requirement already satisfied: idna<4,>=2.5 in c:\\users\\akani\\anaconda3\\lib\\site-packages (from requests->panda) (3.4)\n",
      "Requirement already satisfied: charset-normalizer<3,>=2 in c:\\users\\akani\\anaconda3\\lib\\site-packages (from requests->panda) (2.0.4)\n"
     ]
    }
   ],
   "source": [
    "!pip install panda\n",
    "\n",
    "import panda as pd\n",
    "\n"
   ]
  },
  {
   "cell_type": "code",
   "execution_count": null,
   "id": "82894efd",
   "metadata": {},
   "outputs": [],
   "source": []
  },
  {
   "cell_type": "code",
   "execution_count": null,
   "id": "231136fc",
   "metadata": {},
   "outputs": [],
   "source": []
  },
  {
   "cell_type": "code",
   "execution_count": null,
   "id": "50958b08",
   "metadata": {},
   "outputs": [],
   "source": []
  }
 ],
 "metadata": {
  "kernelspec": {
   "display_name": "Python 3 (ipykernel)",
   "language": "python",
   "name": "python3"
  },
  "language_info": {
   "codemirror_mode": {
    "name": "ipython",
    "version": 3
   },
   "file_extension": ".py",
   "mimetype": "text/x-python",
   "name": "python",
   "nbconvert_exporter": "python",
   "pygments_lexer": "ipython3",
   "version": "3.10.9"
  }
 },
 "nbformat": 4,
 "nbformat_minor": 5
}
